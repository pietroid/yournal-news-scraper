{
 "cells": [
  {
   "cell_type": "code",
   "execution_count": 49,
   "metadata": {},
   "outputs": [
    {
     "name": "stdout",
     "output_type": "stream",
     "text": [
      "news qty  35\n",
      "<newspaper.article.Article object at 0x111f68cd0>\n",
      "<newspaper.article.Article object at 0x111f68b50>\n",
      "<newspaper.article.Article object at 0x111f68eb0>\n",
      "<newspaper.article.Article object at 0x111f68370>\n",
      "<newspaper.article.Article object at 0x111f68f70>\n",
      "<newspaper.article.Article object at 0x111e5e3a0>\n",
      "<newspaper.article.Article object at 0x111eacd30>\n",
      "<newspaper.article.Article object at 0x111eacb80>\n",
      "<newspaper.article.Article object at 0x111eac9a0>\n",
      "<newspaper.article.Article object at 0x111f591f0>\n",
      "<newspaper.article.Article object at 0x111f59e50>\n",
      "<newspaper.article.Article object at 0x111eac070>\n",
      "<newspaper.article.Article object at 0x111eac2b0>\n",
      "<newspaper.article.Article object at 0x111eaca30>\n",
      "<newspaper.article.Article object at 0x111eac4c0>\n",
      "<newspaper.article.Article object at 0x111d7db50>\n",
      "<newspaper.article.Article object at 0x111d7da00>\n",
      "<newspaper.article.Article object at 0x111f68e50>\n",
      "<newspaper.article.Article object at 0x111f59b50>\n",
      "<newspaper.article.Article object at 0x111f595e0>\n",
      "<newspaper.article.Article object at 0x111f272b0>\n"
     ]
    }
   ],
   "source": [
    "import newspaper\n",
    "\n",
    "news_URL = 'https://www.espn.com.br/'\n",
    "news_page = newspaper.build(news_URL)\n",
    "\n",
    "news_articles = []\n",
    "count = 0\n",
    "print('news qty ',len(news_page.articles))\n",
    "\n",
    "for article in news_page.articles:\n",
    "    article.download()\n",
    "    article.parse()\n",
    "    print(article)\n",
    "    news_articles.append(article)\n",
    "    count += 1\n",
    "    if(count>20):\n",
    "        break\n",
    "\n"
   ]
  },
  {
   "cell_type": "code",
   "execution_count": null,
   "metadata": {},
   "outputs": [
    {
     "ename": "NameError",
     "evalue": "name 'news_articles' is not defined",
     "output_type": "error",
     "traceback": [
      "\u001b[0;31m---------------------------------------------------------------------------\u001b[0m",
      "\u001b[0;31mNameError\u001b[0m                                 Traceback (most recent call last)",
      "\u001b[0;32m/var/folders/jl/nvk225hs2jj0fmmb8gh80c400000gp/T/ipykernel_19052/4185996788.py\u001b[0m in \u001b[0;36m<module>\u001b[0;34m\u001b[0m\n\u001b[0;32m----> 1\u001b[0;31m \u001b[0;32mfor\u001b[0m \u001b[0mnews_article\u001b[0m \u001b[0;32min\u001b[0m \u001b[0mnews_articles\u001b[0m\u001b[0;34m:\u001b[0m\u001b[0;34m\u001b[0m\u001b[0;34m\u001b[0m\u001b[0m\n\u001b[0m\u001b[1;32m      2\u001b[0m     \u001b[0mprint\u001b[0m\u001b[0;34m(\u001b[0m\u001b[0;34m'Article '\u001b[0m\u001b[0;34m)\u001b[0m\u001b[0;34m\u001b[0m\u001b[0;34m\u001b[0m\u001b[0m\n\u001b[1;32m      3\u001b[0m     \u001b[0mprint\u001b[0m\u001b[0;34m(\u001b[0m\u001b[0mnews_article\u001b[0m\u001b[0;34m.\u001b[0m\u001b[0mtitle\u001b[0m\u001b[0;34m)\u001b[0m\u001b[0;34m\u001b[0m\u001b[0;34m\u001b[0m\u001b[0m\n\u001b[1;32m      4\u001b[0m     \u001b[0mprint\u001b[0m\u001b[0;34m(\u001b[0m\u001b[0mnews_article\u001b[0m\u001b[0;34m.\u001b[0m\u001b[0msummary\u001b[0m\u001b[0;34m)\u001b[0m\u001b[0;34m\u001b[0m\u001b[0;34m\u001b[0m\u001b[0m\n\u001b[1;32m      5\u001b[0m     \u001b[0mprint\u001b[0m\u001b[0;34m(\u001b[0m\u001b[0mnews_article\u001b[0m\u001b[0;34m.\u001b[0m\u001b[0mauthors\u001b[0m\u001b[0;34m)\u001b[0m\u001b[0;34m\u001b[0m\u001b[0;34m\u001b[0m\u001b[0m\n",
      "\u001b[0;31mNameError\u001b[0m: name 'news_articles' is not defined"
     ]
    }
   ],
   "source": [
    "for news_article in news_articles:\n",
    "    print('Article ')\n",
    "    print(news_article.title)\n",
    "    print(news_article.summary)\n",
    "    print(news_article.authors)\n",
    "    print(news_article.publish_date)\n",
    "    print(news_article.text)\n",
    "    print(news_article.top_image)\n",
    "    print(article.url)\n",
    "\n"
   ]
  },
  {
   "cell_type": "code",
   "execution_count": 39,
   "metadata": {},
   "outputs": [
    {
     "ename": "NotNullViolation",
     "evalue": "null value in column \"date_published\" violates not-null constraint\nDETAIL:  Failing row contains (2, null, 2021-12-23, FOX Sports AO VIVO - Veja a programação completa de quinta-fei..., null, null, Toda a programação dos canais FOX Sports você encontra aqui.\n..., https://a4.espncdn.com/combiner/i?img=%2Fphoto%2F2020%2F1018%2Fr..., https://www.espn.com.br/artigo/_/id/9707031/fox-sports-ao-vivo--...).\n",
     "output_type": "error",
     "traceback": [
      "\u001b[0;31m---------------------------------------------------------------------------\u001b[0m",
      "\u001b[0;31mNotNullViolation\u001b[0m                          Traceback (most recent call last)",
      "\u001b[0;32m/var/folders/jl/nvk225hs2jj0fmmb8gh80c400000gp/T/ipykernel_23201/571963412.py\u001b[0m in \u001b[0;36m<module>\u001b[0;34m\u001b[0m\n\u001b[1;32m     10\u001b[0m \u001b[0mnews_article\u001b[0m \u001b[0;34m=\u001b[0m \u001b[0mnews_articles\u001b[0m\u001b[0;34m[\u001b[0m\u001b[0;36m0\u001b[0m\u001b[0;34m]\u001b[0m\u001b[0;34m\u001b[0m\u001b[0;34m\u001b[0m\u001b[0m\n\u001b[1;32m     11\u001b[0m \u001b[0;34m\u001b[0m\u001b[0m\n\u001b[0;32m---> 12\u001b[0;31m cursor.execute(cursor.mogrify((\n\u001b[0m\u001b[1;32m     13\u001b[0m \u001b[0;34m'INSERT INTO public.news_summaries ('\u001b[0m\u001b[0;34m\u001b[0m\u001b[0;34m\u001b[0m\u001b[0m\n\u001b[1;32m     14\u001b[0m \u001b[0;34m'date_published,'\u001b[0m\u001b[0;34m\u001b[0m\u001b[0;34m\u001b[0m\u001b[0m\n",
      "\u001b[0;31mNotNullViolation\u001b[0m: null value in column \"date_published\" violates not-null constraint\nDETAIL:  Failing row contains (2, null, 2021-12-23, FOX Sports AO VIVO - Veja a programação completa de quinta-fei..., null, null, Toda a programação dos canais FOX Sports você encontra aqui.\n..., https://a4.espncdn.com/combiner/i?img=%2Fphoto%2F2020%2F1018%2Fr..., https://www.espn.com.br/artigo/_/id/9707031/fox-sports-ao-vivo--...).\n"
     ]
    }
   ],
   "source": [
    "import psycopg2\n",
    "import time\n",
    "from datetime import datetime\n",
    "\n",
    "conn = psycopg2.connect('dbname=news_aggregator user=postgres_admin password=Newsaggregator2021 host=news-aggregator.clxhoin1r2lp.us-east-1.rds.amazonaws.com')\n",
    "cursor = conn.cursor()\n",
    "\n",
    "news_article = news_articles[0]\n",
    "\n",
    "cursor.execute(cursor.mogrify((\n",
    "'INSERT INTO public.news_summaries ('\n",
    "'date_published,'\n",
    "'date_obtained,'\n",
    "'title,'\n",
    "'main_text,'\n",
    "'main_image_url,'\n",
    "'news_source_url)'\n",
    "'VALUES (%s, %s, %s, %s, %s, %s)'),(\n",
    "news_article.publish_date,\n",
    "datetime.now(),\n",
    "news_article.title,\n",
    "news_article.text,\n",
    "news_article.top_image,\n",
    "news_article.url)))\n",
    "\n",
    "conn.commit()\n",
    "cursor.close()\n",
    "conn.close()"
   ]
  },
  {
   "cell_type": "code",
   "execution_count": 11,
   "metadata": {},
   "outputs": [
    {
     "name": "stdout",
     "output_type": "stream",
     "text": [
      "aaaaa3\n"
     ]
    }
   ],
   "source": [
    "\n",
    "    \n",
    "b = \"3\"\n",
    "a = (f'aaaa'\n",
    "f'a{b}')\n",
    "print(a)"
   ]
  },
  {
   "cell_type": "code",
   "execution_count": 12,
   "metadata": {},
   "outputs": [
    {
     "name": "stdout",
     "output_type": "stream",
     "text": [
      "2021-12-23\n"
     ]
    }
   ],
   "source": [
    "import time\n",
    "print(time.strftime(\"%Y-%m-%d\"))"
   ]
  },
  {
   "cell_type": "code",
   "execution_count": 6,
   "metadata": {},
   "outputs": [
    {
     "name": "stdout",
     "output_type": "stream",
     "text": [
      "news qty  213\n"
     ]
    },
    {
     "ename": "ForeignKeyViolation",
     "evalue": "insert or update on table \"news_summaries\" violates foreign key constraint \"news_page_id\"\nDETAIL:  Key (id)=(4) is not present in table \"news_pages\".\n",
     "output_type": "error",
     "traceback": [
      "\u001b[0;31m---------------------------------------------------------------------------\u001b[0m",
      "\u001b[0;31mForeignKeyViolation\u001b[0m                       Traceback (most recent call last)",
      "\u001b[0;32m/var/folders/jl/nvk225hs2jj0fmmb8gh80c400000gp/T/ipykernel_82563/2431438750.py\u001b[0m in \u001b[0;36m<module>\u001b[0;34m\u001b[0m\n\u001b[1;32m     42\u001b[0m     \u001b[0marticle\u001b[0m\u001b[0;34m.\u001b[0m\u001b[0mparse\u001b[0m\u001b[0;34m(\u001b[0m\u001b[0;34m)\u001b[0m\u001b[0;34m\u001b[0m\u001b[0;34m\u001b[0m\u001b[0m\n\u001b[1;32m     43\u001b[0m \u001b[0;34m\u001b[0m\u001b[0m\n\u001b[0;32m---> 44\u001b[0;31m     \u001b[0mprocess_article\u001b[0m\u001b[0;34m(\u001b[0m\u001b[0marticle\u001b[0m\u001b[0;34m)\u001b[0m\u001b[0;34m\u001b[0m\u001b[0;34m\u001b[0m\u001b[0m\n\u001b[0m\u001b[1;32m     45\u001b[0m \u001b[0;34m\u001b[0m\u001b[0m\n\u001b[1;32m     46\u001b[0m     \u001b[0mnews_counter\u001b[0m \u001b[0;34m+=\u001b[0m \u001b[0;36m1\u001b[0m\u001b[0;34m\u001b[0m\u001b[0;34m\u001b[0m\u001b[0m\n",
      "\u001b[0;32m/var/folders/jl/nvk225hs2jj0fmmb8gh80c400000gp/T/ipykernel_82563/2431438750.py\u001b[0m in \u001b[0;36mprocess_article\u001b[0;34m(news_article)\u001b[0m\n\u001b[1;32m     21\u001b[0m \u001b[0;34m\u001b[0m\u001b[0m\n\u001b[1;32m     22\u001b[0m \u001b[0;32mdef\u001b[0m \u001b[0mprocess_article\u001b[0m\u001b[0;34m(\u001b[0m\u001b[0mnews_article\u001b[0m\u001b[0;34m)\u001b[0m\u001b[0;34m:\u001b[0m\u001b[0;34m\u001b[0m\u001b[0;34m\u001b[0m\u001b[0m\n\u001b[0;32m---> 23\u001b[0;31m     cursor.execute(cursor.mogrify((\n\u001b[0m\u001b[1;32m     24\u001b[0m     \u001b[0;34m'INSERT INTO public.news_summaries ('\u001b[0m\u001b[0;34m\u001b[0m\u001b[0;34m\u001b[0m\u001b[0m\n\u001b[1;32m     25\u001b[0m     \u001b[0;34m'date_published,'\u001b[0m\u001b[0;34m\u001b[0m\u001b[0;34m\u001b[0m\u001b[0m\n",
      "\u001b[0;31mForeignKeyViolation\u001b[0m: insert or update on table \"news_summaries\" violates foreign key constraint \"news_page_id\"\nDETAIL:  Key (id)=(4) is not present in table \"news_pages\".\n"
     ]
    }
   ],
   "source": [
    "import newspaper\n",
    "import psycopg2\n",
    "import time\n",
    "from datetime import datetime\n",
    "\n",
    "dbname = 'news_aggregator'\n",
    "user = 'postgres_admin'\n",
    "password = 'Newsaggregator2021'\n",
    "host = 'news-aggregator.clxhoin1r2lp.us-east-1.rds.amazonaws.com'\n",
    "\n",
    "news_URL = 'https://www.cartacapital.com.br/'\n",
    "news_number = 0\n",
    "\n",
    "conn = psycopg2.connect(f'dbname={dbname} user={user} password={password} host={host}')\n",
    "cursor = conn.cursor()\n",
    "\n",
    "news_page = newspaper.build(news_URL)\n",
    "news_counter = 0\n",
    "\n",
    "print('news qty ',len(news_page.articles))\n",
    "\n",
    "news_page_id = 1\n",
    "\n",
    "def process_article(news_article):\n",
    "    cursor.execute(cursor.mogrify((\n",
    "    'INSERT INTO public.news_summaries ('\n",
    "    'date_published,'\n",
    "    'date_obtained,'\n",
    "    'title,'\n",
    "    'main_text,'\n",
    "    'main_image_url,'\n",
    "    'news_source_url,'\n",
    "    'news_page_id)'\n",
    "    'VALUES (%s, %s, %s, %s, %s, %s, %s)'),(\n",
    "    news_article.publish_date,\n",
    "    datetime.now(),\n",
    "    news_article.title,\n",
    "    news_article.text,\n",
    "    news_article.top_image,\n",
    "    news_article.url,\n",
    "    news_page_id,\n",
    "    )))\n",
    "    conn.commit()\n",
    "\n",
    "\n",
    "for article in news_page.articles:\n",
    "    article.download()\n",
    "    article.parse()\n",
    "    \n",
    "    process_article(article)\n",
    "\n",
    "    news_counter += 1\n",
    "    if(news_counter >= news_number):\n",
    "        break\n",
    "\n"
   ]
  },
  {
   "cell_type": "code",
   "execution_count": 90,
   "metadata": {},
   "outputs": [
    {
     "name": "stdout",
     "output_type": "stream",
     "text": [
      "{'messageId': 'a16f9ed2-497e-49de-87eb-73e1011a298c', 'receiptHandle': 'AQEBocz6aiNohJ6yPl0qakHRecHSexmjQ7GurjDdUU4L1FSpRI/UDBUFKYJgaQBotBDYNoxNnPgDnl9/7Kn2pryRO6QLbeceN+nJz4mGFjaclymeY++Xi253T6FJTasrEU9JkPZCSBdnqBvXtkd8QOesl+0HMIfHbwVVnKeBv4Bm+7k29rBZyw/TG/iGo8PyNdPEkGqDhQXEBAkkqmf7Ce0Jdko/eBRXI76Zo2/DuJogSEkdkxISBhMq+E97VKrvfGfw7/m7S11Zk0VRyhWy+vdelQ==', 'body': '{\"pageId\":1,\"pageUrl\":\"https://www.tecmundo.com.br/\"}', 'attributes': {'ApproximateReceiveCount': '1', 'SentTimestamp': '1640477773927', 'SequenceNumber': '18866706383834864384', 'MessageGroupId': '1640477773171', 'SenderId': '121518584949', 'MessageDeduplicationId': '8e29a8efa79621cd99997d7a7319afba4b1f072ded1cbb41a50630ee0228a479', 'ApproximateFirstReceiveTimestamp': '1640477775962'}, 'messageAttributes': {}, 'md5OfBody': '1207ce6cb7d11dd6adf2e6717118e83d', 'eventSource': 'aws:sqs', 'eventSourceARN': 'arn:aws:sqs:us-east-1:121518584949:news-pages.fifo', 'awsRegion': 'us-east-1'}\n",
      "{\"pageId\":1,\"pageUrl\":\"https://www.tecmundo.com.br/\"}\n",
      "{'pageId': 1, 'pageUrl': 'https://www.tecmundo.com.br/'}\n",
      "1\n",
      "https://www.tecmundo.com.br/\n",
      "Successfully processed 1 records and 0 news\n"
     ]
    }
   ],
   "source": [
    "import json\n",
    "evt = {'Records': [{'messageId': 'a16f9ed2-497e-49de-87eb-73e1011a298c', 'receiptHandle': 'AQEBocz6aiNohJ6yPl0qakHRecHSexmjQ7GurjDdUU4L1FSpRI/UDBUFKYJgaQBotBDYNoxNnPgDnl9/7Kn2pryRO6QLbeceN+nJz4mGFjaclymeY++Xi253T6FJTasrEU9JkPZCSBdnqBvXtkd8QOesl+0HMIfHbwVVnKeBv4Bm+7k29rBZyw/TG/iGo8PyNdPEkGqDhQXEBAkkqmf7Ce0Jdko/eBRXI76Zo2/DuJogSEkdkxISBhMq+E97VKrvfGfw7/m7S11Zk0VRyhWy+vdelQ==', 'body': '{\"pageId\":1,\"pageUrl\":\"https://www.tecmundo.com.br/\"}', 'attributes': {'ApproximateReceiveCount': '1', 'SentTimestamp': '1640477773927', 'SequenceNumber': '18866706383834864384', 'MessageGroupId': '1640477773171', 'SenderId': '121518584949', 'MessageDeduplicationId': '8e29a8efa79621cd99997d7a7319afba4b1f072ded1cbb41a50630ee0228a479', 'ApproximateFirstReceiveTimestamp': '1640477775962'}, 'messageAttributes': {}, 'md5OfBody': '1207ce6cb7d11dd6adf2e6717118e83d', 'eventSource': 'aws:sqs', 'eventSourceARN': 'arn:aws:sqs:us-east-1:121518584949:news-pages.fifo', 'awsRegion': 'us-east-1'}]} \n",
    "\n",
    "def handler(event):\n",
    "    records_processed = 0\n",
    "    news_processed = 0\n",
    "    if('Records' not in event):\n",
    "        return 'Unsuccesfull. Records not present.'\n",
    "    \n",
    "    for record in event['Records']:\n",
    "        print(record)\n",
    "        if('body' in record):\n",
    "            try:\n",
    "                print(record['body'])\n",
    "                content = json.loads(record['body'])\n",
    "                print(content)\n",
    "                if('pageId' in content and 'pageUrl' in content):\n",
    "                    pageId = content['pageId']\n",
    "                    pageUrl = content['pageUrl']\n",
    "                    records_processed += 1\n",
    "                    \n",
    "            except Exception as e:\n",
    "                print(e)\n",
    "                \n",
    "    \n",
    "    return f'Successfully processed {records_processed} records and {news_processed} news'\n",
    "\n",
    "\n",
    "print(handler(evt))\n"
   ]
  },
  {
   "cell_type": "code",
   "execution_count": 92,
   "metadata": {},
   "outputs": [
    {
     "name": "stdout",
     "output_type": "stream",
     "text": [
      "{'body': '{\"pageId\":1,\"pageUrl\":\"https://www.quantamagazine.org/\"}', 'messageAttributes': {}, 'md5OfBody': '1207ce6cb7d11dd6adf2e6717118e83d', 'eventSource': 'aws:sqs', 'eventSourceARN': 'arn:aws:sqs:us-east-1:121518584949:news-pages.fifo', 'awsRegion': 'us-east-1'}\n",
      "{\"pageId\":1,\"pageUrl\":\"https://www.quantamagazine.org/\"}\n",
      "{'pageId': 1, 'pageUrl': 'https://www.quantamagazine.org/'}\n",
      "Total news qty for https://www.quantamagazine.org/: 103.\n",
      "Successfully processed 1 records and 20 news\n"
     ]
    }
   ],
   "source": [
    "import newspaper\n",
    "import psycopg2\n",
    "import time\n",
    "from datetime import datetime\n",
    "import json\n",
    "\n",
    "evt = {'Records': [{'body': '{\"pageId\":1,\"pageUrl\":\"https://www.quantamagazine.org/\"}', 'messageAttributes': {}, 'md5OfBody': '1207ce6cb7d11dd6adf2e6717118e83d', 'eventSource': 'aws:sqs', 'eventSourceARN': 'arn:aws:sqs:us-east-1:121518584949:news-pages.fifo', 'awsRegion': 'us-east-1'}]} \n",
    "\n",
    "dbname = 'news_aggregator'\n",
    "user = 'postgres_admin'\n",
    "password = 'Newsaggregator2021'\n",
    "host = 'news-aggregator.clxhoin1r2lp.us-east-1.rds.amazonaws.com'\n",
    "\n",
    "conn = psycopg2.connect(f'dbname={dbname} user={user} password={password} host={host}')\n",
    "cursor = conn.cursor()\n",
    "\n",
    "records_processed = 0\n",
    "news_processed = 0\n",
    "\n",
    "news_number_limit = 20\n",
    "text_limit = 500\n",
    "\n",
    "def process_article(news_article, pageId):\n",
    "    global text_limit\n",
    "    cursor.execute(cursor.mogrify((\n",
    "    'INSERT INTO public.news_summaries ('\n",
    "    'date_published,'\n",
    "    'date_obtained,'\n",
    "    'title,'\n",
    "    'main_text,'\n",
    "    'main_image_url,'\n",
    "    'news_source_url,'\n",
    "    'news_page_id)'\n",
    "    'VALUES (%s, %s, %s, %s, %s, %s, %s)'),(\n",
    "    news_article.publish_date,\n",
    "    datetime.now(),\n",
    "    news_article.title,\n",
    "    news_article.text[0:text_limit],\n",
    "    news_article.top_image,\n",
    "    news_article.url,\n",
    "    pageId,\n",
    "    )))\n",
    "    conn.commit()\n",
    "\n",
    "def scrape_news_website(pageId, pageUrl):\n",
    "    global news_processed\n",
    "    global news_number_limit\n",
    "\n",
    "    news_page = newspaper.build(pageUrl)\n",
    "    news_counter = 0\n",
    "\n",
    "    print(f'Total news qty for {pageUrl}: {len(news_page.articles)}.')\n",
    "\n",
    "    for article in news_page.articles:\n",
    "        article.download()\n",
    "        article.parse()\n",
    "        \n",
    "        process_article(article, pageId)\n",
    "\n",
    "        news_counter += 1\n",
    "        news_processed += 1\n",
    "        if(news_counter >= news_number_limit):\n",
    "            break\n",
    "\n",
    "def handler(event):\n",
    "    global records_processed\n",
    "    if('Records' not in event):\n",
    "        return 'Unsuccesfull. Records not present.'\n",
    "    \n",
    "    for record in event['Records']:\n",
    "        print(record)\n",
    "        if('body' in record):\n",
    "            try:\n",
    "                print(record['body'])\n",
    "                content = json.loads(record['body'])\n",
    "                print(content)\n",
    "                if('pageId' in content and 'pageUrl' in content):\n",
    "                    pageId = content['pageId']\n",
    "                    pageUrl = content['pageUrl']\n",
    "\n",
    "                    scrape_news_website(pageId, pageUrl)\n",
    "\n",
    "                    records_processed += 1\n",
    "                    \n",
    "            except Exception as e:\n",
    "                print(e)\n",
    "                \n",
    "    \n",
    "    return f'Successfully processed {records_processed} records and {news_processed} news'\n",
    "\n",
    "print(handler(evt))"
   ]
  },
  {
   "cell_type": "code",
   "execution_count": 94,
   "metadata": {},
   "outputs": [
    {
     "name": "stdout",
     "output_type": "stream",
     "text": [
      "[1, 2, 3]\n"
     ]
    }
   ],
   "source": [
    "t = [1,2,3]\n",
    "print(t[0:10])"
   ]
  },
  {
   "cell_type": "code",
   "execution_count": 6,
   "metadata": {},
   "outputs": [
    {
     "data": {
      "text/plain": [
       "'1966c174feb3edc33c9dc29ffa2a2828'"
      ]
     },
     "execution_count": 6,
     "metadata": {},
     "output_type": "execute_result"
    }
   ],
   "source": [
    "import hashlib\n",
    "\n",
    "result = hashlib.md5(b'https://bigthink.com/smart-skills/how-to-overcome-a-language-barrier/')\n",
    "result.hexdigest()\n",
    "\n"
   ]
  },
  {
   "cell_type": "code",
   "execution_count": 12,
   "metadata": {},
   "outputs": [],
   "source": [
    "import newspaper\n",
    "import psycopg2\n",
    "import time\n",
    "from datetime import datetime\n",
    "import json\n",
    "\n",
    "dbname = 'news_aggregator'\n",
    "user = 'postgres_admin'\n",
    "password = 'Newsaggregator2021'\n",
    "host = 'news-aggregator.clxhoin1r2lp.us-east-1.rds.amazonaws.com'\n",
    "\n",
    "conn = psycopg2.connect(f'dbname={dbname} user={user} password={password} host={host}')\n",
    "cursor = conn.cursor()\n",
    "\n",
    "cursor.execute('SELECT news_source_url FROM news_summaries')\n",
    "news_summaries = cursor.fetchall()\n",
    "\n",
    "for news_summary in news_summaries:\n",
    "    news_url = news_summary[0]\n",
    "    hash = hashlib.md5(str.encode(news_url)).hexdigest()\n",
    "\n",
    "    cursor.execute(cursor.mogrify('UPDATE news_summaries SET url_hash = %s WHERE news_source_url = %s'), (hash,news_url))\n",
    "    conn.commit()\n"
   ]
  }
 ],
 "metadata": {
  "interpreter": {
   "hash": "aee8b7b246df8f9039afb4144a1f6fd8d2ca17a180786b69acc140d282b71a49"
  },
  "kernelspec": {
   "display_name": "Python 3.9.9 64-bit",
   "language": "python",
   "name": "python3"
  },
  "language_info": {
   "codemirror_mode": {
    "name": "ipython",
    "version": 3
   },
   "file_extension": ".py",
   "mimetype": "text/x-python",
   "name": "python",
   "nbconvert_exporter": "python",
   "pygments_lexer": "ipython3",
   "version": "3.8.9"
  },
  "orig_nbformat": 4
 },
 "nbformat": 4,
 "nbformat_minor": 2
}
